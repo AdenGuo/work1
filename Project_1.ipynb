{
 "cells": [
  {
   "cell_type": "markdown",
   "metadata": {},
   "source": [
    "# Read Data and Preprocess"
   ]
  },
  {
   "cell_type": "markdown",
   "metadata": {},
   "source": [
    "# Loading Data and Preprocess"
   ]
  },
  {
   "cell_type": "markdown",
   "metadata": {},
   "source": [
    "First read the file into program. And prepare each column as a data of list."
   ]
  },
  {
   "cell_type": "code",
   "execution_count": 1,
   "metadata": {
    "collapsed": false,
    "scrolled": false
   },
   "outputs": [
    {
     "name": "stdout",
     "output_type": "stream",
     "text": [
      "The first column have 24 numbers.\n",
      "The second column have 24 numbers.\n"
     ]
    }
   ],
   "source": [
    "import numpy as np\n",
    "import pandas as pd\n",
    "f = open(\"stroopdata.csv\")\n",
    "data = [[float(line.split(',')[0]), float(line.split(',')[1])] for line in f.readlines()[1:]]\n",
    "congruent = [x[0] for x in data]\n",
    "incongruent = [x[1] for x in data]\n",
    "print \"The first column have \"+str(len(congruent))+\" numbers.\"\n",
    "print \"The second column have \"+str(len(incongruent))+\" numbers.\""
   ]
  },
  {
   "cell_type": "markdown",
   "metadata": {},
   "source": [
    "# Dependent and Independent Variables"
   ]
  },
  {
   "cell_type": "markdown",
   "metadata": {},
   "source": [
    "As we can see, the data contains two columns of data which are correspending to two tested cases in this experiment. There are 24 numbers in each column which are corresponding to 24 subjects in the research. These 24 subjects are tested in two cases. And these two cases are independent variable.\n",
    "\n",
    "Case 1. Subjects are shown words of color to which are painted corresponding. For example, <font color='red'>red</font>, <font color='blue'>blue</font> and <font color='black'>black</font>.  \n",
    "\n",
    "Case 2, Subjects are shown words of color to which are painted corresponding not. For example, <font color='red'>blue</font>, <font color='blue'>red</font> and <font color='green'>black</font>.\n",
    "\n",
    "We will refer the paint of the word as inks and the word itself as word. We refer case 1 as congruent case and case 2 as incongruent case.\n",
    "\n",
    "The length of time is measured for each subject naming the inks of a list of words which both in congruent and incongruent cases. The length of time is dependent variable."
   ]
  },
  {
   "cell_type": "markdown",
   "metadata": {
    "collapsed": true
   },
   "source": [
    "#  Hypothesis and Satistical Test"
   ]
  },
  {
   "cell_type": "markdown",
   "metadata": {},
   "source": [
    "The main question associated with this dataset is if there exists a difference for people making reaction with  congruent and incongruent situations."
   ]
  }
 ],
 "metadata": {
  "kernelspec": {
   "display_name": "Analysis of Stroopdata",
   "language": "python",
   "name": "python2"
  },
  "language_info": {
   "codemirror_mode": {
    "name": "ipython",
    "version": 2
   },
   "file_extension": ".py",
   "mimetype": "text/x-python",
   "name": "python",
   "nbconvert_exporter": "python",
   "pygments_lexer": "ipython2",
   "version": "2.7.9"
  }
 },
 "nbformat": 4,
 "nbformat_minor": 0
}
